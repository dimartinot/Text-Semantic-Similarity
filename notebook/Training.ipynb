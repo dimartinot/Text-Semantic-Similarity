{
 "cells": [
  {
   "cell_type": "markdown",
   "metadata": {},
   "source": [
    "# Training Notebook\n",
    "---\n",
    "In this notebook, we will train our model to perform data similarity detection."
   ]
  },
  {
   "cell_type": "markdown",
   "metadata": {},
   "source": [
    "## Imports & Constants"
   ]
  },
  {
   "cell_type": "code",
   "execution_count": 1,
   "metadata": {},
   "outputs": [],
   "source": [
    "import os\n",
    "import sys\n",
    "# Ignore warnings\n",
    "import warnings\n",
    "warnings.filterwarnings(\"ignore\")\n",
    "\n",
    "# Used to import libraries from an absolute path starting with the project's root\n",
    "module_path = os.path.abspath(os.path.join('../'))\n",
    "if module_path not in sys.path:\n",
    "    sys.path.append(module_path)\n",
    "\n",
    "from PIL import Image\n",
    "import matplotlib.pyplot as plt\n",
    "import numpy as np\n",
    "import pandas as pd\n",
    "import time\n",
    "from datetime import datetime\n",
    "import importlib\n",
    "\n",
    "import torch\n",
    "import torch.nn as nn\n",
    "import torch.optim as optim\n",
    "from torch.utils.data.sampler import SubsetRandomSampler\n",
    "\n",
    "from sklearn.linear_model import LogisticRegression\n",
    "\n",
    "# Local imports\n",
    "from src.dataset.similarityVectorizedDataset import SimilarityVectorizedDataset\n",
    "from src.model.contrastiveModel import ContrastiveLoss, SiameseContrastiveLoss, TextSimilarityLSTM, TextSimilarityDeepSiameseLSTM"
   ]
  },
  {
   "cell_type": "code",
   "execution_count": 4,
   "metadata": {},
   "outputs": [
    {
     "name": "stdout",
     "output_type": "stream",
     "text": [
      "Device used: cuda:0\n"
     ]
    }
   ],
   "source": [
    "BATCH_SIZE = 128\n",
    "EMBEDDING_DIM = 40\n",
    "EPOCHS = 25\n",
    "TRAIN = 0.8\n",
    "TEST = 0.1\n",
    "VAL = 0.1\n",
    "SHUFFLE = True\n",
    "SEED = 42\n",
    "LR = 1e-3\n",
    "TO_SAVE = True\n",
    "\n",
    "torch.manual_seed(SEED)\n",
    "device = torch.device('cuda:0' if torch.cuda.is_available() else 'cpu')\n",
    "print(f\"Device used: {device}\")"
   ]
  },
  {
   "cell_type": "markdown",
   "metadata": {},
   "source": [
    "## Loading data & processing pipeline\n",
    "We are loading the PyTorch compatible Dataset class and create 3 dataloaders, one per set of data (train, val, test)"
   ]
  },
  {
   "cell_type": "code",
   "execution_count": 10,
   "metadata": {},
   "outputs": [],
   "source": [
    "def padding_collate(batch):\n",
    "    \"\"\"\n",
    "        Used as a PyTorch collate_fn function in PyTorch dataloaders. \n",
    "        Given a batch of vectors of shape (word_count, word_size), \n",
    "        make the word_count of each sequence uniform by doing right-side 0 padding.\n",
    "        \n",
    "        /!\\ The sequences size between batches may vary /!\\\n",
    "    \"\"\"\n",
    "    \n",
    "    max_shape_val = max(\n",
    "        [\n",
    "                #b[0] to get X, b[0][0] to get the first sentence of every X, b[0][1] to get the second sentence of every X\n",
    "            max(b[0][0].shape[0], b[0][1].shape[0]) for b in batch\n",
    "        ]\n",
    "    )\n",
    "    \n",
    "    X1 = []\n",
    "    X2 = []\n",
    "    y = [] \n",
    "        \n",
    "    for i in range(len(batch)):\n",
    "        \n",
    "        #batch[i][0] is X, batch[i][1] is y\n",
    "        x1 = batch[i][0][0]\n",
    "                    \n",
    "        if x1.shape[0] < max_shape_val:            \n",
    "            to_be_padded_shape = (max_shape_val - x1.shape[0], x1.shape[1])\n",
    "            padding = torch.zeros(to_be_padded_shape)\n",
    "            x1 = torch.cat((x1, padding), dim=0)\n",
    "                \n",
    "        x2 = batch[i][0][1]\n",
    "        \n",
    "        if x2.shape[0] < max_shape_val:            \n",
    "            to_be_padded_shape = (max_shape_val - x2.shape[0], x2.shape[1])\n",
    "            padding = torch.zeros(to_be_padded_shape)\n",
    "            x2 = torch.cat((x2, padding), dim=0)\n",
    "    \n",
    "        X1.append(x1)\n",
    "        X2.append(x2)\n",
    "                \n",
    "        y.append([batch[i][1]])\n",
    "    \n",
    "    X1 = torch.stack(X1)\n",
    "    X2 = torch.stack(X2)\n",
    "    \n",
    "    return (X1, X2), torch.FloatTensor(y)\n"
   ]
  },
  {
   "cell_type": "code",
   "execution_count": 13,
   "metadata": {},
   "outputs": [
    {
     "name": "stdout",
     "output_type": "stream",
     "text": [
      "Creating dataloaders..\n"
     ]
    }
   ],
   "source": [
    "dataset = SimilarityVectorizedDataset()\n",
    "\n",
    "# Data preparation \n",
    "dataset_size = len(dataset)\n",
    "indices = list(range(dataset_size))\n",
    "\n",
    "val_split = int(np.floor(VAL * dataset_size))\n",
    "test_split = int(np.floor(TEST * dataset_size))\n",
    "\n",
    "if SHUFFLE:\n",
    "    np.random.seed(SEED)\n",
    "    np.random.shuffle(indices)\n",
    "\n",
    "train_indices, val_indices, test_indices = indices[val_split+test_split:], indices[:val_split], indices[val_split:val_split+test_split]\n",
    "\n",
    "# Creating PT data samplers and loaders:\n",
    "train_sampler = SubsetRandomSampler(train_indices)\n",
    "val_sampler = SubsetRandomSampler(val_indices)\n",
    "test_sampler = SubsetRandomSampler(test_indices)\n",
    "\n",
    "num_train_batch = int(np.ceil(TRAIN * dataset_size / BATCH_SIZE))\n",
    "num_val_batch = int(np.ceil(VAL * dataset_size / BATCH_SIZE))\n",
    "num_test_batch = int(np.ceil(TEST * dataset_size / BATCH_SIZE))\n",
    "\n",
    "print(\"Creating dataloaders..\")\n",
    "\n",
    "dataloader_train = torch.utils.data.dataloader.DataLoader(\n",
    "    dataset = dataset,\n",
    "    batch_size = BATCH_SIZE,\n",
    "    collate_fn = padding_collate,\n",
    "    sampler = train_sampler\n",
    ")\n",
    "\n",
    "dataloader_val = torch.utils.data.dataloader.DataLoader(\n",
    "    dataset = dataset,\n",
    "    batch_size = BATCH_SIZE,\n",
    "    collate_fn = padding_collate,\n",
    "    sampler = val_sampler\n",
    ")\n",
    "\n",
    "dataloader_test = torch.utils.data.dataloader.DataLoader(\n",
    "    dataset = dataset,\n",
    "    collate_fn = padding_collate,\n",
    "    sampler = test_sampler\n",
    ")"
   ]
  },
  {
   "cell_type": "markdown",
   "metadata": {},
   "source": [
    "## Part I: Training the distance model"
   ]
  },
  {
   "cell_type": "code",
   "execution_count": 17,
   "metadata": {},
   "outputs": [
    {
     "data": {
      "text/plain": [
       "(323404, 40425, 40425)"
      ]
     },
     "execution_count": 17,
     "metadata": {},
     "output_type": "execute_result"
    }
   ],
   "source": [
    "len(train_indices), len(val_indices), len(test_indices)"
   ]
  },
  {
   "cell_type": "markdown",
   "metadata": {},
   "source": [
    "### Instantiating model, loss and optimizer"
   ]
  },
  {
   "cell_type": "code",
   "execution_count": 5,
   "metadata": {},
   "outputs": [
    {
     "data": {
      "text/plain": [
       "<module 'src.model.contrastiveModel' from 'C:\\\\Users\\\\thoma\\\\OneDrive\\\\Documents\\\\GitHub\\\\Text-Semantic-Similarity\\\\src\\\\model\\\\contrastiveModel.py'>"
      ]
     },
     "execution_count": 5,
     "metadata": {},
     "output_type": "execute_result"
    }
   ],
   "source": [
    "import src.model.contrastiveModel\n",
    "importlib.reload(src.model.contrastiveModel)"
   ]
  },
  {
   "cell_type": "code",
   "execution_count": 6,
   "metadata": {},
   "outputs": [],
   "source": [
    "model = src.model.contrastiveModel.TextSimilarityDeepSiameseLSTM(embedding_dim = EMBEDDING_DIM)\n",
    "model = model.cuda()\n",
    "model.train()\n",
    "\n",
    "contrastive_loss = src.model.contrastiveModel.SiameseContrastiveLoss()\n",
    "optimizer = optim.Adam(model.parameters(), lr=LR)\n",
    "scheduler = optim.lr_scheduler.ReduceLROnPlateau(optimizer, mode='max', factor=0.1, patience=0, verbose=True)"
   ]
  },
  {
   "cell_type": "markdown",
   "metadata": {},
   "source": [
    "### Training & Validation loops"
   ]
  },
  {
   "cell_type": "code",
   "execution_count": 7,
   "metadata": {},
   "outputs": [
    {
     "name": "stdout",
     "output_type": "stream",
     "text": [
      "Epochs 0\n"
     ]
    },
    {
     "ename": "NameError",
     "evalue": "name 'dataloader_train' is not defined",
     "output_type": "error",
     "traceback": [
      "\u001b[1;31m---------------------------------------------------------------------------\u001b[0m",
      "\u001b[1;31mNameError\u001b[0m                                 Traceback (most recent call last)",
      "\u001b[1;32m<ipython-input-7-cecf01316f34>\u001b[0m in \u001b[0;36m<module>\u001b[1;34m\u001b[0m\n\u001b[0;32m      6\u001b[0m     \u001b[0mtotal_duration\u001b[0m \u001b[1;33m=\u001b[0m \u001b[1;36m0\u001b[0m\u001b[1;33m\u001b[0m\u001b[1;33m\u001b[0m\u001b[0m\n\u001b[0;32m      7\u001b[0m     \u001b[0mt0\u001b[0m \u001b[1;33m=\u001b[0m \u001b[0mtime\u001b[0m\u001b[1;33m.\u001b[0m\u001b[0mtime\u001b[0m\u001b[1;33m(\u001b[0m\u001b[1;33m)\u001b[0m\u001b[1;33m\u001b[0m\u001b[1;33m\u001b[0m\u001b[0m\n\u001b[1;32m----> 8\u001b[1;33m     \u001b[0mtotal_timesteps\u001b[0m \u001b[1;33m=\u001b[0m \u001b[0mlen\u001b[0m\u001b[1;33m(\u001b[0m\u001b[0mdataloader_train\u001b[0m\u001b[1;33m)\u001b[0m\u001b[1;33m\u001b[0m\u001b[1;33m\u001b[0m\u001b[0m\n\u001b[0m\u001b[0;32m      9\u001b[0m \u001b[1;33m\u001b[0m\u001b[0m\n\u001b[0;32m     10\u001b[0m \u001b[1;33m\u001b[0m\u001b[0m\n",
      "\u001b[1;31mNameError\u001b[0m: name 'dataloader_train' is not defined"
     ]
    }
   ],
   "source": [
    "for i in range(EPOCHS):\n",
    "\n",
    "    print(f\"Epochs {i}\")\n",
    "    n = 1\n",
    "    total_loss = 0\n",
    "    total_duration = 0\n",
    "    t0 = time.time()\n",
    "    total_timesteps = len(dataloader_train)\n",
    "\n",
    "\n",
    "    for local_batch, local_labels in dataloader_train:\n",
    "        model.zero_grad()\n",
    "\n",
    "        # Transfer to GPU\n",
    "        local_batch_X1, local_batch_X2, local_labels = local_batch[0].to(device), local_batch[1].to(device), local_labels.to(device)\n",
    "\n",
    "        preds = model(local_batch_X1, local_batch_X2)\n",
    "\n",
    "        # Compute the loss, gradients, and update the parameters by\n",
    "        #loss = loss_function(preds, local_labels)\n",
    "        loss = contrastive_loss(preds, local_labels)\n",
    "        loss.backward()\n",
    "        optimizer.step()\n",
    "\n",
    "        # Statistics to follow progress\n",
    "        total_loss += loss.item()\n",
    "        duration = time.time() - t0\n",
    "        total_duration += duration\n",
    "        total_duration = round(total_duration, 2)\n",
    "\n",
    "        estimated_duration_left = round((total_duration / n) * (total_timesteps), 2)\n",
    "\n",
    "        print(f\"\\r Epochs {i} - Loss: {total_loss/n} - Acc: {0} - Batch: {n}/{num_train_batch} - Dur: {total_duration}s/{estimated_duration_left}s\", end=\"\")\n",
    "        n+=1\n",
    "        t0 = time.time()\n",
    "\n",
    "    print(\"\\n\")\n",
    "\n",
    "    # End of epochs validation\n",
    "\n",
    "    n = 1\n",
    "    total_loss = 0\n",
    "    with torch.no_grad():\n",
    "        model.eval()\n",
    "        for local_batch, local_labels in dataloader_val:\n",
    "            # Transfer to GPU\n",
    "            local_batch_X1, local_batch_X2, local_labels = local_batch[0].to(device), local_batch[1].to(device), local_labels.to(device)\n",
    "\n",
    "            preds = model(local_batch_X1, local_batch_X2)\n",
    "\n",
    "            loss = contrastive_loss(preds, local_labels)\n",
    "\n",
    "            total_loss += loss.item()\n",
    "\n",
    "            acc=0\n",
    "            print(f\"\\r Epochs {i} - Val_loss: {total_loss/n} - Batch: {n}/{num_val_batch}\", end=\"\")\n",
    "            n+=1\n",
    "\n",
    "        if TO_SAVE:\n",
    "            date = datetime.now().strftime(\"%m_%d_%H_%M_%S\" )\n",
    "            torch.save(model.state_dict(), f\"siamese_lstm_sequence_{date}_epoch{i}.pt\")\n",
    "\n",
    "        model.train()\n",
    "    print(\"\\n---\")"
   ]
  },
  {
   "cell_type": "code",
   "execution_count": 13,
   "metadata": {},
   "outputs": [],
   "source": [
    "date = datetime.now().strftime(\"%m_%d_%H_%M_%S\" )\n",
    "torch.save(model.state_dict(), f\"siamese_lstm_sequence_{date}_epoch{i}.pt\")"
   ]
  },
  {
   "cell_type": "markdown",
   "metadata": {},
   "source": [
    "## Part II: Training the distance classifier\n",
    "### Dataloaders creation"
   ]
  },
  {
   "cell_type": "code",
   "execution_count": 8,
   "metadata": {},
   "outputs": [],
   "source": [
    "def model_and_titles_to_distance_dataset(model, dataloader):\n",
    "    \"\"\"\n",
    "    Given a similarity learning model and a dataloader, transforms the data of the dataloader in the shape of a distance dataset.\n",
    "    The distances are computed using the model. We then use the target variables to train a linear model to classify the distances\n",
    "    to 2 different classes: similar or dissimilar.\n",
    "    \"\"\"\n",
    "\n",
    "\n",
    "\n",
    "    X = []\n",
    "    y = []\n",
    "    \n",
    "    n = 1\n",
    "    \n",
    "    total_duration = 0\n",
    "    total_steps = len(dataloader)\n",
    "    \n",
    "    model.eval()\n",
    "    \n",
    "    for local_batch, local_labels in dataloader:\n",
    "        \n",
    "        t0 = time.time()\n",
    "        \n",
    "        # Transfer to GPU\n",
    "        local_batch_X1, local_batch_X2, local_labels = local_batch[0].to(device), local_batch[1].to(device), local_labels.to(device)\n",
    "\n",
    "        preds = model(local_batch_X1, local_batch_X2)\n",
    "        \n",
    "        with torch.no_grad():\n",
    "            # Transfering distances and labels to cpu\n",
    "            distances_cpu = preds.cpu().numpy().reshape(-1, 1)\n",
    "            labels = torch.flatten(local_labels).cpu().numpy().reshape(-1, 1)\n",
    "            # Fitting logreg\n",
    "            X.append(distances_cpu)\n",
    "            y.append(labels)\n",
    "        \n",
    "        duration = time.time() - t0\n",
    "        \n",
    "        total_duration += duration\n",
    "        \n",
    "        per_step_mean_duration = total_duration / n\n",
    "        rest_of_time = per_step_mean_duration * (total_steps)\n",
    "        \n",
    "        n+=1\n",
    "        print(f\"\\r{n}-{total_steps} (ETA: {total_duration}/{rest_of_time}s)\", end=\"\")\n",
    "        \n",
    "    model.train()\n",
    "        \n",
    "    X = np.array(X).flatten().reshape(-1, 1)\n",
    "    y = np.array(y).flatten()\n",
    "    \n",
    "    return X, y\n"
   ]
  },
  {
   "cell_type": "code",
   "execution_count": 9,
   "metadata": {},
   "outputs": [],
   "source": [
    "dataloader_train = torch.utils.data.dataloader.DataLoader(\n",
    "    dataset = dataset,\n",
    "    collate_fn = padding_collate,\n",
    "    sampler = train_sampler\n",
    ")\n",
    "\n",
    "dataloader_val = torch.utils.data.dataloader.DataLoader(\n",
    "    dataset = dataset,\n",
    "    collate_fn = padding_collate,\n",
    "    sampler = val_sampler\n",
    ")\n",
    "\n",
    "dataloader_test = torch.utils.data.dataloader.DataLoader(\n",
    "    dataset = dataset,\n",
    "    collate_fn = padding_collate,\n",
    "    sampler = test_sampler\n",
    ")"
   ]
  },
  {
   "cell_type": "code",
   "execution_count": 10,
   "metadata": {},
   "outputs": [
    {
     "name": "stdout",
     "output_type": "stream",
     "text": [
      "Generating training dataset...\n",
      "323405-323404 (ETA: 2527.3489344120026/2527.3489344120026s)Generating validation dataset...\n",
      "80851-80850 (ETA: 643.5618054866791/643.5618054866791s))Generating test dataset...\n",
      "40426-40425 (ETA: 311.65931963920593/311.65931963920593s)"
     ]
    }
   ],
   "source": [
    "print(\"Generating training dataset...\")\n",
    "X_train, y_train = model_and_titles_to_distance_dataset(model, dataloader_train)\n",
    "\n",
    "print(\"Generating validation dataset...\")\n",
    "X_test, y_test = model_and_titles_to_distance_dataset(model, dataloader_test)\n",
    "\n",
    "print(\"Generating test dataset...\")\n",
    "X_val, y_val = model_and_titles_to_distance_dataset(model, dataloader_val)"
   ]
  },
  {
   "cell_type": "code",
   "execution_count": 11,
   "metadata": {},
   "outputs": [
    {
     "name": "stdout",
     "output_type": "stream",
     "text": [
      "\n",
      "Final perfs: 0.8791202335159738 - 0.787334570191713 - 0.7888682745825603\n"
     ]
    }
   ],
   "source": [
    "logreg = LogisticRegression()\n",
    "\n",
    "logreg.fit(X_train, y_train)\n",
    "\n",
    "train_acc = logreg.score(X_train, y_train)\n",
    "val_acc = logreg.score(X_val, y_val)\n",
    "test_acc = logreg.score(X_test, y_test)\n",
    "\n",
    "print(f\"\\nFinal perfs: {train_acc} - {val_acc} - {test_acc}\")"
   ]
  },
  {
   "cell_type": "code",
   "execution_count": 12,
   "metadata": {
    "scrolled": true
   },
   "outputs": [
    {
     "data": {
      "text/plain": [
       "<sklearn.metrics._plot.roc_curve.RocCurveDisplay at 0x1c611971148>"
      ]
     },
     "execution_count": 12,
     "metadata": {},
     "output_type": "execute_result"
    },
    {
     "data": {
      "image/png": "[encoded data removed]",
      "text/plain": [
       "<Figure size 432x288 with 1 Axes>"
      ]
     },
     "metadata": {
      "needs_background": "light"
     },
     "output_type": "display_data"
    }
   ],
   "source": [
    "from sklearn.metrics import plot_roc_curve\n",
    "\n",
    "plot_roc_curve(logreg, X_test, y_test)"
   ]
  },
  {
   "cell_type": "code",
   "execution_count": 73,
   "metadata": {
    "scrolled": true
   },
   "outputs": [
    {
     "data": {
      "text/plain": [
       "<sklearn.metrics._plot.roc_curve.RocCurveDisplay at 0x2b691970588>"
      ]
     },
     "execution_count": 73,
     "metadata": {},
     "output_type": "execute_result"
    },
    {
     "data": {
      "image/png": "[encoded data removed]",
      "text/plain": [
       "<Figure size 432x288 with 1 Axes>"
      ]
     },
     "metadata": {
      "needs_background": "light"
     },
     "output_type": "display_data"
    }
   ],
   "source": [
    "from sklearn.metrics import plot_roc_curve\n",
    "\n",
    "plot_roc_curve(logreg, X_test, y_test)"
   ]
  },
  {
   "cell_type": "code",
   "execution_count": null,
   "metadata": {},
   "outputs": [],
   "source": []
  },
  {
   "cell_type": "code",
   "execution_count": null,
   "metadata": {},
   "outputs": [],
   "source": []
  },
  {
   "cell_type": "code",
   "execution_count": null,
   "metadata": {},
   "outputs": [],
   "source": []
  },
  {
   "cell_type": "code",
   "execution_count": null,
   "metadata": {},
   "outputs": [],
   "source": []
  },
  {
   "cell_type": "code",
   "execution_count": 18,
   "metadata": {},
   "outputs": [
    {
     "data": {
      "text/plain": [
       "<module 'src.model.contrastiveModel' from 'C:\\\\Users\\\\thoma\\\\OneDrive\\\\Documents\\\\GitHub\\\\Text-Semantic-Similarity\\\\src\\\\model\\\\contrastiveModel.py'>"
      ]
     },
     "execution_count": 18,
     "metadata": {},
     "output_type": "execute_result"
    }
   ],
   "source": [
    "import src.model.contrastiveModel\n",
    "importlib.reload(src.model.contrastiveModel)"
   ]
  },
  {
   "cell_type": "code",
   "execution_count": 19,
   "metadata": {},
   "outputs": [],
   "source": [
    "model = src.model.contrastiveModel.TextSimilarityDeepSiameseLSTM(embedding_dim = EMBEDDING_DIM)\n",
    "model.cuda()\n",
    "model.train()\n",
    "\n",
    "contrastive_loss = src.model.contrastiveModel.SiameseContrastiveLoss()\n",
    "optimizer = optim.Adam(model.parameters(), lr=LR)\n",
    "scheduler = optim.lr_scheduler.ReduceLROnPlateau(optimizer, mode='max', factor=0.1, patience=0, verbose=True)"
   ]
  },
  {
   "cell_type": "markdown",
   "metadata": {},
   "source": [
    "### Training & Validation loops"
   ]
  },
  {
   "cell_type": "code",
   "execution_count": 20,
   "metadata": {},
   "outputs": [
    {
     "name": "stdout",
     "output_type": "stream",
     "text": [
      "Epochs 0\n",
      " Epochs 0 - Loss: 0.47034857881177683 - Acc: 0 - Batch: 2527/2527 - Dur: 633.88s/633.88s\n",
      "\n",
      " Epochs 0 - Val_loss: 0.4319848928459083 - Batch: 316/3166\n",
      "---\n",
      "Epochs 1\n",
      " Epochs 1 - Loss: 0.4160456503385794 - Acc: 0 - Batch: 2527/2527 - Dur: 287.31s/287.31ss\n",
      "\n",
      " Epochs 1 - Val_loss: 0.41224280065750774 - Batch: 316/316\n",
      "---\n",
      "Epochs 2\n",
      " Epochs 2 - Loss: 0.39695531133375106 - Acc: 0 - Batch: 2527/2527 - Dur: 282.76s/282.76s\n",
      "\n",
      " Epochs 2 - Val_loss: 0.3934259812665891 - Batch: 316/3166\n",
      "---\n",
      "Epochs 3\n",
      " Epochs 3 - Loss: 0.3830358907550892 - Acc: 0 - Batch: 2527/2527 - Dur: 286.57s/286.57ss\n",
      "\n",
      " Epochs 3 - Val_loss: 0.37925554689350005 - Batch: 316/316\n",
      "---\n",
      "Epochs 4\n",
      " Epochs 4 - Loss: 0.3709938465770545 - Acc: 0 - Batch: 2527/2527 - Dur: 281.83s/281.83ss\n",
      "\n",
      " Epochs 4 - Val_loss: 0.3712030093692526 - Batch: 316/3166\n",
      "---\n",
      "Epochs 5\n",
      " Epochs 5 - Loss: 0.36151552555893174 - Acc: 0 - Batch: 2527/2527 - Dur: 282.7s/282.7sss\n",
      "\n",
      " Epochs 5 - Val_loss: 0.3670369802585131 - Batch: 316/3166\n",
      "---\n",
      "Epochs 6\n",
      " Epochs 6 - Loss: 0.3530330629300637 - Acc: 0 - Batch: 2527/2527 - Dur: 314.98s/314.98ss\n",
      "\n",
      " Epochs 6 - Val_loss: 0.3560983929075772 - Batch: 316/3166\n",
      "---\n",
      "Epochs 7\n",
      " Epochs 7 - Loss: 0.34438917501363353 - Acc: 0 - Batch: 2527/2527 - Dur: 303.58s/303.58s\n",
      "\n",
      " Epochs 7 - Val_loss: 0.35441904147214526 - Batch: 316/316\n",
      "---\n",
      "Epochs 8\n",
      " Epochs 8 - Loss: 0.33654654682932705 - Acc: 0 - Batch: 2527/2527 - Dur: 296.54s/296.54s\n",
      "\n",
      " Epochs 8 - Val_loss: 0.345971285353733 - Batch: 316/31616\n",
      "---\n",
      "Epochs 9\n",
      " Epochs 9 - Loss: 0.3300158770472625 - Acc: 0 - Batch: 2527/2527 - Dur: 300.92s/300.92ss\n",
      "\n",
      " Epochs 9 - Val_loss: 0.34150962663602225 - Batch: 316/316\n",
      "---\n",
      "Epochs 10\n",
      " Epochs 10 - Loss: 0.3234902742496818 - Acc: 0 - Batch: 2527/2527 - Dur: 297.63s/297.63ss\n",
      "\n",
      " Epochs 10 - Val_loss: 0.33594166709086565 - Batch: 316/316\n",
      "---\n",
      "Epochs 11\n",
      " Epochs 11 - Loss: 0.3179178425609523 - Acc: 0 - Batch: 2527/2527 - Dur: 286.6s/286.6s2ss\n",
      "\n",
      " Epochs 11 - Val_loss: 0.33444607757692096 - Batch: 316/316\n",
      "---\n",
      "Epochs 12\n",
      " Epochs 12 - Loss: 0.31267752354801714 - Acc: 0 - Batch: 2527/2527 - Dur: 274.59s/274.59s\n",
      "\n",
      " Epochs 12 - Val_loss: 0.32891203793166557 - Batch: 316/316\n",
      "---\n",
      "Epochs 13\n",
      " Epochs 13 - Loss: 0.3073068524614643 - Acc: 0 - Batch: 2527/2527 - Dur: 277.09s/277.09ss\n",
      "\n",
      " Epochs 13 - Val_loss: 0.3307318348861948 - Batch: 316/3166\n",
      "---\n",
      "Epochs 14\n",
      " Epochs 14 - Loss: 0.3024757542261551 - Acc: 0 - Batch: 2527/2527 - Dur: 285.91s/285.91ss\n",
      "\n",
      " Epochs 14 - Val_loss: 0.3238954039502747 - Batch: 316/3166\n",
      "---\n",
      "Epochs 15\n",
      " Epochs 15 - Loss: 0.2980951318391284 - Acc: 0 - Batch: 2527/2527 - Dur: 287.98s/287.98ss\n",
      "\n",
      " Epochs 15 - Val_loss: 0.3228124183944509 - Batch: 316/3166\n",
      "---\n",
      "Epochs 16\n",
      " Epochs 16 - Loss: 0.2934634729860138 - Acc: 0 - Batch: 2527/2527 - Dur: 278.88s/278.88ss\n",
      "\n",
      " Epochs 16 - Val_loss: 0.3197442506310306 - Batch: 316/3166\n",
      "---\n",
      "Epochs 17\n",
      " Epochs 17 - Loss: 0.28965605573074876 - Acc: 0 - Batch: 2527/2527 - Dur: 276.32s/276.32s\n",
      "\n",
      " Epochs 17 - Val_loss: 0.31874085811874536 - Batch: 316/316\n",
      "---\n",
      "Epochs 18\n",
      " Epochs 18 - Loss: 0.2857713567783675 - Acc: 0 - Batch: 2527/2527 - Dur: 269.71s/269.71ss\n",
      "\n",
      " Epochs 18 - Val_loss: 0.3178498563415642 - Batch: 316/3166\n",
      "---\n",
      "Epochs 19\n",
      " Epochs 19 - Loss: 0.28163118473545384 - Acc: 0 - Batch: 2328/2527 - Dur: 272.38s/295.66s"
     ]
    },
    {
     "ename": "KeyboardInterrupt",
     "evalue": "",
     "output_type": "error",
     "traceback": [
      "\u001b[1;31m---------------------------------------------------------------------------\u001b[0m",
      "\u001b[1;31mKeyboardInterrupt\u001b[0m                         Traceback (most recent call last)",
      "\u001b[1;32m<ipython-input-20-cecf01316f34>\u001b[0m in \u001b[0;36m<module>\u001b[1;34m\u001b[0m\n\u001b[0;32m      9\u001b[0m \u001b[1;33m\u001b[0m\u001b[0m\n\u001b[0;32m     10\u001b[0m \u001b[1;33m\u001b[0m\u001b[0m\n\u001b[1;32m---> 11\u001b[1;33m     \u001b[1;32mfor\u001b[0m \u001b[0mlocal_batch\u001b[0m\u001b[1;33m,\u001b[0m \u001b[0mlocal_labels\u001b[0m \u001b[1;32min\u001b[0m \u001b[0mdataloader_train\u001b[0m\u001b[1;33m:\u001b[0m\u001b[1;33m\u001b[0m\u001b[1;33m\u001b[0m\u001b[0m\n\u001b[0m\u001b[0;32m     12\u001b[0m         \u001b[0mmodel\u001b[0m\u001b[1;33m.\u001b[0m\u001b[0mzero_grad\u001b[0m\u001b[1;33m(\u001b[0m\u001b[1;33m)\u001b[0m\u001b[1;33m\u001b[0m\u001b[1;33m\u001b[0m\u001b[0m\n\u001b[0;32m     13\u001b[0m \u001b[1;33m\u001b[0m\u001b[0m\n",
      "\u001b[1;32m~\\Anaconda3\\envs\\pytorch\\lib\\site-packages\\torch\\utils\\data\\dataloader.py\u001b[0m in \u001b[0;36m__next__\u001b[1;34m(self)\u001b[0m\n\u001b[0;32m    343\u001b[0m \u001b[1;33m\u001b[0m\u001b[0m\n\u001b[0;32m    344\u001b[0m     \u001b[1;32mdef\u001b[0m \u001b[0m__next__\u001b[0m\u001b[1;33m(\u001b[0m\u001b[0mself\u001b[0m\u001b[1;33m)\u001b[0m\u001b[1;33m:\u001b[0m\u001b[1;33m\u001b[0m\u001b[1;33m\u001b[0m\u001b[0m\n\u001b[1;32m--> 345\u001b[1;33m         \u001b[0mdata\u001b[0m \u001b[1;33m=\u001b[0m \u001b[0mself\u001b[0m\u001b[1;33m.\u001b[0m\u001b[0m_next_data\u001b[0m\u001b[1;33m(\u001b[0m\u001b[1;33m)\u001b[0m\u001b[1;33m\u001b[0m\u001b[1;33m\u001b[0m\u001b[0m\n\u001b[0m\u001b[0;32m    346\u001b[0m         \u001b[0mself\u001b[0m\u001b[1;33m.\u001b[0m\u001b[0m_num_yielded\u001b[0m \u001b[1;33m+=\u001b[0m \u001b[1;36m1\u001b[0m\u001b[1;33m\u001b[0m\u001b[1;33m\u001b[0m\u001b[0m\n\u001b[0;32m    347\u001b[0m         \u001b[1;32mif\u001b[0m \u001b[0mself\u001b[0m\u001b[1;33m.\u001b[0m\u001b[0m_dataset_kind\u001b[0m \u001b[1;33m==\u001b[0m \u001b[0m_DatasetKind\u001b[0m\u001b[1;33m.\u001b[0m\u001b[0mIterable\u001b[0m \u001b[1;32mand\u001b[0m\u001b[0;31m \u001b[0m\u001b[0;31m\\\u001b[0m\u001b[1;33m\u001b[0m\u001b[1;33m\u001b[0m\u001b[0m\n",
      "\u001b[1;32m~\\Anaconda3\\envs\\pytorch\\lib\\site-packages\\torch\\utils\\data\\dataloader.py\u001b[0m in \u001b[0;36m_next_data\u001b[1;34m(self)\u001b[0m\n\u001b[0;32m    383\u001b[0m     \u001b[1;32mdef\u001b[0m \u001b[0m_next_data\u001b[0m\u001b[1;33m(\u001b[0m\u001b[0mself\u001b[0m\u001b[1;33m)\u001b[0m\u001b[1;33m:\u001b[0m\u001b[1;33m\u001b[0m\u001b[1;33m\u001b[0m\u001b[0m\n\u001b[0;32m    384\u001b[0m         \u001b[0mindex\u001b[0m \u001b[1;33m=\u001b[0m \u001b[0mself\u001b[0m\u001b[1;33m.\u001b[0m\u001b[0m_next_index\u001b[0m\u001b[1;33m(\u001b[0m\u001b[1;33m)\u001b[0m  \u001b[1;31m# may raise StopIteration\u001b[0m\u001b[1;33m\u001b[0m\u001b[1;33m\u001b[0m\u001b[0m\n\u001b[1;32m--> 385\u001b[1;33m         \u001b[0mdata\u001b[0m \u001b[1;33m=\u001b[0m \u001b[0mself\u001b[0m\u001b[1;33m.\u001b[0m\u001b[0m_dataset_fetcher\u001b[0m\u001b[1;33m.\u001b[0m\u001b[0mfetch\u001b[0m\u001b[1;33m(\u001b[0m\u001b[0mindex\u001b[0m\u001b[1;33m)\u001b[0m  \u001b[1;31m# may raise StopIteration\u001b[0m\u001b[1;33m\u001b[0m\u001b[1;33m\u001b[0m\u001b[0m\n\u001b[0m\u001b[0;32m    386\u001b[0m         \u001b[1;32mif\u001b[0m \u001b[0mself\u001b[0m\u001b[1;33m.\u001b[0m\u001b[0m_pin_memory\u001b[0m\u001b[1;33m:\u001b[0m\u001b[1;33m\u001b[0m\u001b[1;33m\u001b[0m\u001b[0m\n\u001b[0;32m    387\u001b[0m             \u001b[0mdata\u001b[0m \u001b[1;33m=\u001b[0m \u001b[0m_utils\u001b[0m\u001b[1;33m.\u001b[0m\u001b[0mpin_memory\u001b[0m\u001b[1;33m.\u001b[0m\u001b[0mpin_memory\u001b[0m\u001b[1;33m(\u001b[0m\u001b[0mdata\u001b[0m\u001b[1;33m)\u001b[0m\u001b[1;33m\u001b[0m\u001b[1;33m\u001b[0m\u001b[0m\n",
      "\u001b[1;32m~\\Anaconda3\\envs\\pytorch\\lib\\site-packages\\torch\\utils\\data\\_utils\\fetch.py\u001b[0m in \u001b[0;36mfetch\u001b[1;34m(self, possibly_batched_index)\u001b[0m\n\u001b[0;32m     42\u001b[0m     \u001b[1;32mdef\u001b[0m \u001b[0mfetch\u001b[0m\u001b[1;33m(\u001b[0m\u001b[0mself\u001b[0m\u001b[1;33m,\u001b[0m \u001b[0mpossibly_batched_index\u001b[0m\u001b[1;33m)\u001b[0m\u001b[1;33m:\u001b[0m\u001b[1;33m\u001b[0m\u001b[1;33m\u001b[0m\u001b[0m\n\u001b[0;32m     43\u001b[0m         \u001b[1;32mif\u001b[0m \u001b[0mself\u001b[0m\u001b[1;33m.\u001b[0m\u001b[0mauto_collation\u001b[0m\u001b[1;33m:\u001b[0m\u001b[1;33m\u001b[0m\u001b[1;33m\u001b[0m\u001b[0m\n\u001b[1;32m---> 44\u001b[1;33m             \u001b[0mdata\u001b[0m \u001b[1;33m=\u001b[0m \u001b[1;33m[\u001b[0m\u001b[0mself\u001b[0m\u001b[1;33m.\u001b[0m\u001b[0mdataset\u001b[0m\u001b[1;33m[\u001b[0m\u001b[0midx\u001b[0m\u001b[1;33m]\u001b[0m \u001b[1;32mfor\u001b[0m \u001b[0midx\u001b[0m \u001b[1;32min\u001b[0m \u001b[0mpossibly_batched_index\u001b[0m\u001b[1;33m]\u001b[0m\u001b[1;33m\u001b[0m\u001b[1;33m\u001b[0m\u001b[0m\n\u001b[0m\u001b[0;32m     45\u001b[0m         \u001b[1;32melse\u001b[0m\u001b[1;33m:\u001b[0m\u001b[1;33m\u001b[0m\u001b[1;33m\u001b[0m\u001b[0m\n\u001b[0;32m     46\u001b[0m             \u001b[0mdata\u001b[0m \u001b[1;33m=\u001b[0m \u001b[0mself\u001b[0m\u001b[1;33m.\u001b[0m\u001b[0mdataset\u001b[0m\u001b[1;33m[\u001b[0m\u001b[0mpossibly_batched_index\u001b[0m\u001b[1;33m]\u001b[0m\u001b[1;33m\u001b[0m\u001b[1;33m\u001b[0m\u001b[0m\n",
      "\u001b[1;32m~\\Anaconda3\\envs\\pytorch\\lib\\site-packages\\torch\\utils\\data\\_utils\\fetch.py\u001b[0m in \u001b[0;36m<listcomp>\u001b[1;34m(.0)\u001b[0m\n\u001b[0;32m     42\u001b[0m     \u001b[1;32mdef\u001b[0m \u001b[0mfetch\u001b[0m\u001b[1;33m(\u001b[0m\u001b[0mself\u001b[0m\u001b[1;33m,\u001b[0m \u001b[0mpossibly_batched_index\u001b[0m\u001b[1;33m)\u001b[0m\u001b[1;33m:\u001b[0m\u001b[1;33m\u001b[0m\u001b[1;33m\u001b[0m\u001b[0m\n\u001b[0;32m     43\u001b[0m         \u001b[1;32mif\u001b[0m \u001b[0mself\u001b[0m\u001b[1;33m.\u001b[0m\u001b[0mauto_collation\u001b[0m\u001b[1;33m:\u001b[0m\u001b[1;33m\u001b[0m\u001b[1;33m\u001b[0m\u001b[0m\n\u001b[1;32m---> 44\u001b[1;33m             \u001b[0mdata\u001b[0m \u001b[1;33m=\u001b[0m \u001b[1;33m[\u001b[0m\u001b[0mself\u001b[0m\u001b[1;33m.\u001b[0m\u001b[0mdataset\u001b[0m\u001b[1;33m[\u001b[0m\u001b[0midx\u001b[0m\u001b[1;33m]\u001b[0m \u001b[1;32mfor\u001b[0m \u001b[0midx\u001b[0m \u001b[1;32min\u001b[0m \u001b[0mpossibly_batched_index\u001b[0m\u001b[1;33m]\u001b[0m\u001b[1;33m\u001b[0m\u001b[1;33m\u001b[0m\u001b[0m\n\u001b[0m\u001b[0;32m     45\u001b[0m         \u001b[1;32melse\u001b[0m\u001b[1;33m:\u001b[0m\u001b[1;33m\u001b[0m\u001b[1;33m\u001b[0m\u001b[0m\n\u001b[0;32m     46\u001b[0m             \u001b[0mdata\u001b[0m \u001b[1;33m=\u001b[0m \u001b[0mself\u001b[0m\u001b[1;33m.\u001b[0m\u001b[0mdataset\u001b[0m\u001b[1;33m[\u001b[0m\u001b[0mpossibly_batched_index\u001b[0m\u001b[1;33m]\u001b[0m\u001b[1;33m\u001b[0m\u001b[1;33m\u001b[0m\u001b[0m\n",
      "\u001b[1;32m~\\OneDrive\\Documents\\GitHub\\Text-Semantic-Similarity\\src\\dataset\\similarityVectorizedDataset.py\u001b[0m in \u001b[0;36m__getitem__\u001b[1;34m(self, idx)\u001b[0m\n\u001b[0;32m     79\u001b[0m \u001b[1;33m\u001b[0m\u001b[0m\n\u001b[0;32m     80\u001b[0m         \u001b[0msequence1\u001b[0m \u001b[1;33m=\u001b[0m \u001b[0mtorch\u001b[0m\u001b[1;33m.\u001b[0m\u001b[0mFloatTensor\u001b[0m\u001b[1;33m(\u001b[0m\u001b[0msequence1\u001b[0m\u001b[1;33m)\u001b[0m\u001b[1;33m.\u001b[0m\u001b[0msqueeze\u001b[0m\u001b[1;33m(\u001b[0m\u001b[1;36m1\u001b[0m\u001b[1;33m)\u001b[0m\u001b[1;33m\u001b[0m\u001b[1;33m\u001b[0m\u001b[0m\n\u001b[1;32m---> 81\u001b[1;33m         \u001b[0msequence2\u001b[0m \u001b[1;33m=\u001b[0m \u001b[0mtorch\u001b[0m\u001b[1;33m.\u001b[0m\u001b[0mFloatTensor\u001b[0m\u001b[1;33m(\u001b[0m\u001b[0msequence2\u001b[0m\u001b[1;33m)\u001b[0m\u001b[1;33m.\u001b[0m\u001b[0msqueeze\u001b[0m\u001b[1;33m(\u001b[0m\u001b[1;36m1\u001b[0m\u001b[1;33m)\u001b[0m\u001b[1;33m\u001b[0m\u001b[1;33m\u001b[0m\u001b[0m\n\u001b[0m\u001b[0;32m     82\u001b[0m \u001b[1;33m\u001b[0m\u001b[0m\n\u001b[0;32m     83\u001b[0m         \u001b[1;31m# if two sequences are different sizes, perform zero padding of the smallest\u001b[0m\u001b[1;33m\u001b[0m\u001b[1;33m\u001b[0m\u001b[1;33m\u001b[0m\u001b[0m\n",
      "\u001b[1;31mKeyboardInterrupt\u001b[0m: "
     ]
    }
   ],
   "source": [
    "for i in range(EPOCHS):\n",
    "\n",
    "    print(f\"Epochs {i}\")\n",
    "    n = 1\n",
    "    total_loss = 0\n",
    "    total_duration = 0\n",
    "    t0 = time.time()\n",
    "    total_timesteps = len(dataloader_train)\n",
    "\n",
    "\n",
    "    for local_batch, local_labels in dataloader_train:\n",
    "        model.zero_grad()\n",
    "\n",
    "        # Transfer to GPU\n",
    "        local_batch_X1, local_batch_X2, local_labels = local_batch[0].to(device), local_batch[1].to(device), local_labels.to(device)\n",
    "\n",
    "        preds = model(local_batch_X1, local_batch_X2)\n",
    "\n",
    "        # Compute the loss, gradients, and update the parameters by\n",
    "        #loss = loss_function(preds, local_labels)\n",
    "        loss = contrastive_loss(preds, local_labels)\n",
    "        loss.backward()\n",
    "        optimizer.step()\n",
    "\n",
    "        # Statistics to follow progress\n",
    "        total_loss += loss.item()\n",
    "        duration = time.time() - t0\n",
    "        total_duration += duration\n",
    "        total_duration = round(total_duration, 2)\n",
    "\n",
    "        estimated_duration_left = round((total_duration / n) * (total_timesteps), 2)\n",
    "\n",
    "        print(f\"\\r Epochs {i} - Loss: {total_loss/n} - Acc: {0} - Batch: {n}/{num_train_batch} - Dur: {total_duration}s/{estimated_duration_left}s\", end=\"\")\n",
    "        n+=1\n",
    "        t0 = time.time()\n",
    "\n",
    "    print(\"\\n\")\n",
    "\n",
    "    # End of epochs validation\n",
    "\n",
    "    n = 1\n",
    "    total_loss = 0\n",
    "    with torch.no_grad():\n",
    "        model.eval()\n",
    "        for local_batch, local_labels in dataloader_val:\n",
    "            # Transfer to GPU\n",
    "            local_batch_X1, local_batch_X2, local_labels = local_batch[0].to(device), local_batch[1].to(device), local_labels.to(device)\n",
    "\n",
    "            preds = model(local_batch_X1, local_batch_X2)\n",
    "\n",
    "            loss = contrastive_loss(preds, local_labels)\n",
    "\n",
    "            total_loss += loss.item()\n",
    "\n",
    "            acc=0\n",
    "            print(f\"\\r Epochs {i} - Val_loss: {total_loss/n} - Batch: {n}/{num_val_batch}\", end=\"\")\n",
    "            n+=1\n",
    "\n",
    "        if TO_SAVE:\n",
    "            date = datetime.now().strftime(\"%m_%d_%H_%M_%S\" )\n",
    "            torch.save(model.state_dict(), f\"siamese_lstm_sequence_{date}_epoch{i}.pt\")\n",
    "\n",
    "        model.train()\n",
    "    print(\"\\n---\")"
   ]
  },
  {
   "cell_type": "code",
   "execution_count": null,
   "metadata": {},
   "outputs": [],
   "source": [
    "date = datetime.now().strftime(\"%m_%d_%H_%M_%S\" )\n",
    "torch.save(model.state_dict(), f\"siamese_smaller_lstm_sequence_{date}_epoch{i}.pt\")"
   ]
  },
  {
   "cell_type": "markdown",
   "metadata": {},
   "source": [
    "## Part II: Training the distance classifier\n",
    "### Dataloaders creation"
   ]
  },
  {
   "cell_type": "code",
   "execution_count": 21,
   "metadata": {},
   "outputs": [],
   "source": [
    "def model_and_titles_to_distance_dataset(model, dataloader):\n",
    "    \"\"\"\n",
    "    Given a similarity learning model and a dataloader, transforms the data of the dataloader in the shape of a distance dataset.\n",
    "    The distances are computed using the model. We then use the target variables to train a linear model to classify the distances\n",
    "    to 2 different classes: similar or dissimilar.\n",
    "    \"\"\"\n",
    "\n",
    "\n",
    "\n",
    "    X = []\n",
    "    y = []\n",
    "    \n",
    "    n = 1\n",
    "    \n",
    "    total_duration = 0\n",
    "    total_steps = len(dataloader)\n",
    "    \n",
    "    model.eval()\n",
    "    \n",
    "    for local_batch, local_labels in dataloader:\n",
    "        \n",
    "        t0 = time.time()\n",
    "        \n",
    "        # Transfer to GPU\n",
    "        local_batch_X1, local_batch_X2, local_labels = local_batch[0].to(device), local_batch[1].to(device), local_labels.to(device)\n",
    "\n",
    "        preds = model(local_batch_X1, local_batch_X2)\n",
    "        \n",
    "        with torch.no_grad():\n",
    "            # Transfering distances and labels to cpu\n",
    "            distances_cpu = preds.cpu().numpy().reshape(-1, 1)\n",
    "            labels = torch.flatten(local_labels).cpu().numpy().reshape(-1, 1)\n",
    "            # Fitting logreg\n",
    "            X.append(distances_cpu)\n",
    "            y.append(labels)\n",
    "        \n",
    "        duration = time.time() - t0\n",
    "        \n",
    "        total_duration += duration\n",
    "        \n",
    "        per_step_mean_duration = total_duration / n\n",
    "        rest_of_time = per_step_mean_duration * (total_steps)\n",
    "        \n",
    "        n+=1\n",
    "        print(f\"\\r{n}-{total_steps} (ETA: {total_duration}/{rest_of_time}s)\", end=\"\")\n",
    "        \n",
    "    model.train()\n",
    "        \n",
    "    X = np.array(X).flatten().reshape(-1, 1)\n",
    "    y = np.array(y).flatten()\n",
    "    \n",
    "    return X, y\n"
   ]
  },
  {
   "cell_type": "code",
   "execution_count": 22,
   "metadata": {},
   "outputs": [],
   "source": [
    "dataloader_train = torch.utils.data.dataloader.DataLoader(\n",
    "    dataset = dataset,\n",
    "    collate_fn = padding_collate,\n",
    "    sampler = train_sampler\n",
    ")\n",
    "\n",
    "dataloader_val = torch.utils.data.dataloader.DataLoader(\n",
    "    dataset = dataset,\n",
    "    collate_fn = padding_collate,\n",
    "    sampler = val_sampler\n",
    ")\n",
    "\n",
    "dataloader_test = torch.utils.data.dataloader.DataLoader(\n",
    "    dataset = dataset,\n",
    "    collate_fn = padding_collate,\n",
    "    sampler = test_sampler\n",
    ")"
   ]
  },
  {
   "cell_type": "code",
   "execution_count": 23,
   "metadata": {},
   "outputs": [
    {
     "name": "stdout",
     "output_type": "stream",
     "text": [
      "Generating training dataset...\n",
      "323405-323404 (ETA: 2862.318431854248/2862.318431854248s)s)Generating validation dataset...\n",
      "40426-40425 (ETA: 324.6666724681854/324.6666724681855s)Generating test dataset...\n",
      "40426-40425 (ETA: 326.08153319358826/326.08153319358826s)"
     ]
    }
   ],
   "source": [
    "print(\"Generating training dataset...\")\n",
    "X_train, y_train = model_and_titles_to_distance_dataset(model, dataloader_train)\n",
    "\n",
    "print(\"Generating validation dataset...\")\n",
    "X_test, y_test = model_and_titles_to_distance_dataset(model, dataloader_test)\n",
    "\n",
    "print(\"Generating test dataset...\")\n",
    "X_val, y_val = model_and_titles_to_distance_dataset(model, dataloader_val)"
   ]
  },
  {
   "cell_type": "code",
   "execution_count": 24,
   "metadata": {},
   "outputs": [
    {
     "name": "stdout",
     "output_type": "stream",
     "text": [
      "\n",
      "Final perfs: 0.7894120047989511 - 0.7616326530612245 - 0.7670995670995671\n"
     ]
    }
   ],
   "source": [
    "logreg = LogisticRegression()\n",
    "\n",
    "logreg.fit(X_train, y_train)\n",
    "\n",
    "train_acc = logreg.score(X_train, y_train)\n",
    "val_acc = logreg.score(X_val, y_val)\n",
    "test_acc = logreg.score(X_test, y_test)\n",
    "\n",
    "print(f\"\\nFinal perfs: {train_acc} - {val_acc} - {test_acc}\")"
   ]
  },
  {
   "cell_type": "code",
   "execution_count": 25,
   "metadata": {
    "scrolled": true
   },
   "outputs": [
    {
     "data": {
      "text/plain": [
       "<sklearn.metrics._plot.roc_curve.RocCurveDisplay at 0x2327b0b0b88>"
      ]
     },
     "execution_count": 25,
     "metadata": {},
     "output_type": "execute_result"
    },
    {
     "data": {
      "image/png": "[encoded data removed]",
      "text/plain": [
       "<Figure size 432x288 with 1 Axes>"
      ]
     },
     "metadata": {
      "needs_background": "light"
     },
     "output_type": "display_data"
    }
   ],
   "source": [
    "from sklearn.metrics import plot_roc_curve\n",
    "\n",
    "plot_roc_curve(logreg, X_test, y_test)"
   ]
  },
  {
   "cell_type": "code",
   "execution_count": null,
   "metadata": {},
   "outputs": [],
   "source": []
  }
 ],
 "metadata": {
  "kernelspec": {
   "display_name": "Python [conda env:pytorch] *",
   "language": "python",
   "name": "conda-env-pytorch-py"
  },
  "language_info": {
   "codemirror_mode": {
    "name": "ipython",
    "version": 3
   },
   "file_extension": ".py",
   "mimetype": "text/x-python",
   "name": "python",
   "nbconvert_exporter": "python",
   "pygments_lexer": "ipython3",
   "version": "3.7.7"
  }
 },
 "nbformat": 4,
 "nbformat_minor": 4
}
