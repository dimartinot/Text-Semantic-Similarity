{
 "cells": [
  {
   "cell_type": "markdown",
   "metadata": {
    "toc": true
   },
   "source": [
    "<h1>Table of Contents<span class=\"tocSkip\"></span></h1>\n",
    "<div class=\"toc\"><ul class=\"toc-item\"><li><span><a href=\"#Training-Notebook\" data-toc-modified-id=\"Training-Notebook-1\"><span class=\"toc-item-num\">1&nbsp;&nbsp;</span>Training Notebook</a></span><ul class=\"toc-item\"><li><span><a href=\"#Imports-&amp;-Constants\" data-toc-modified-id=\"Imports-&amp;-Constants-1.1\"><span class=\"toc-item-num\">1.1&nbsp;&nbsp;</span>Imports &amp; Constants</a></span></li><li><span><a href=\"#Loading-data-&amp;-processing-pipeline\" data-toc-modified-id=\"Loading-data-&amp;-processing-pipeline-1.2\"><span class=\"toc-item-num\">1.2&nbsp;&nbsp;</span>Loading data &amp; processing pipeline</a></span></li><li><span><a href=\"#Part-I:-Training-the-distance-model\" data-toc-modified-id=\"Part-I:-Training-the-distance-model-1.3\"><span class=\"toc-item-num\">1.3&nbsp;&nbsp;</span>Part I: Training the distance model</a></span><ul class=\"toc-item\"><li><span><a href=\"#Instantiating-model,-loss-and-optimizer\" data-toc-modified-id=\"Instantiating-model,-loss-and-optimizer-1.3.1\"><span class=\"toc-item-num\">1.3.1&nbsp;&nbsp;</span>Instantiating model, loss and optimizer</a></span></li><li><span><a href=\"#Training-&amp;-Validation-loops\" data-toc-modified-id=\"Training-&amp;-Validation-loops-1.3.2\"><span class=\"toc-item-num\">1.3.2&nbsp;&nbsp;</span>Training &amp; Validation loops</a></span></li></ul></li><li><span><a href=\"#Part-II:-Training-the-distance-classifier\" data-toc-modified-id=\"Part-II:-Training-the-distance-classifier-1.4\"><span class=\"toc-item-num\">1.4&nbsp;&nbsp;</span>Part II: Training the distance classifier</a></span><ul class=\"toc-item\"><li><span><a href=\"#Dataloaders-creation\" data-toc-modified-id=\"Dataloaders-creation-1.4.1\"><span class=\"toc-item-num\">1.4.1&nbsp;&nbsp;</span>Dataloaders creation</a></span></li></ul></li></ul></li></ul></div>"
   ]
  },
  {
   "cell_type": "markdown",
   "metadata": {},
   "source": [
    "# Training Notebook\n",
    "---\n",
    "In this notebook, we will train our model to perform data similarity detection."
   ]
  },
  {
   "cell_type": "markdown",
   "metadata": {},
   "source": [
    "## Imports & Constants"
   ]
  },
  {
   "cell_type": "code",
   "execution_count": 1,
   "metadata": {},
   "outputs": [],
   "source": [
    "import os\n",
    "import sys\n",
    "# Ignore warnings\n",
    "import warnings\n",
    "warnings.filterwarnings(\"ignore\")\n",
    "\n",
    "# Used to import libraries from an absolute path starting with the project's root\n",
    "module_path = os.path.abspath(os.path.join('../'))\n",
    "if module_path not in sys.path:\n",
    "    sys.path.append(module_path)\n",
    "\n",
    "from PIL import Image\n",
    "import matplotlib.pyplot as plt\n",
    "import numpy as np\n",
    "import pandas as pd\n",
    "import time\n",
    "from datetime import datetime\n",
    "import importlib\n",
    "\n",
    "import torch\n",
    "import torch.nn as nn\n",
    "import torch.optim as optim\n",
    "from torch.utils.data.sampler import SubsetRandomSampler\n",
    "\n",
    "from sklearn.linear_model import LogisticRegression\n",
    "\n",
    "# Local imports\n",
    "from src.dataset.similarityVectorizedDataset import SimilarityVectorizedDataset\n",
    "from src.model.contrastiveModel import ContrastiveLoss, SiameseContrastiveLoss, TextSimilarityLSTM, TextSimilarityDeepSiameseLSTM"
   ]
  },
  {
   "cell_type": "code",
   "execution_count": 2,
   "metadata": {},
   "outputs": [
    {
     "name": "stdout",
     "output_type": "stream",
     "text": [
      "Device used: cuda:0\n"
     ]
    }
   ],
   "source": [
    "BATCH_SIZE = 128\n",
    "EMBEDDING_DIM = 40\n",
    "EPOCHS = 25\n",
    "TRAIN = 0.8\n",
    "TEST = 0.1\n",
    "VAL = 0.1\n",
    "SHUFFLE = True\n",
    "SEED = 42\n",
    "LR = 1e-3\n",
    "TO_SAVE = True\n",
    "\n",
    "torch.manual_seed(SEED)\n",
    "device = torch.device('cuda:0' if torch.cuda.is_available() else 'cpu')\n",
    "print(f\"Device used: {device}\")"
   ]
  },
  {
   "cell_type": "markdown",
   "metadata": {},
   "source": [
    "## Loading data & processing pipeline\n",
    "We are loading the PyTorch compatible Dataset class and create 3 dataloaders, one per set of data (train, val, test)"
   ]
  },
  {
   "cell_type": "code",
   "execution_count": 3,
   "metadata": {},
   "outputs": [],
   "source": [
    "def padding_collate(batch):\n",
    "    \"\"\"\n",
    "        Used as a PyTorch collate_fn function in PyTorch dataloaders. \n",
    "        Given a batch of vectors of shape (word_count, word_size), \n",
    "        make the word_count of each sequence uniform by doing right-side 0 padding.\n",
    "        \n",
    "        /!\\ The sequences size between batches may vary /!\\\n",
    "    \"\"\"\n",
    "    \n",
    "    max_shape_val = max(\n",
    "        [\n",
    "                #b[0] to get X, b[0][0] to get the first sentence of every X, b[0][1] to get the second sentence of every X\n",
    "            max(b[0][0].shape[0], b[0][1].shape[0]) for b in batch\n",
    "        ]\n",
    "    )\n",
    "    \n",
    "    X1 = []\n",
    "    X2 = []\n",
    "    y = [] \n",
    "        \n",
    "    for i in range(len(batch)):\n",
    "        \n",
    "        #batch[i][0] is X, batch[i][1] is y\n",
    "        x1 = batch[i][0][0]\n",
    "                    \n",
    "        if x1.shape[0] < max_shape_val:            \n",
    "            to_be_padded_shape = (max_shape_val - x1.shape[0], x1.shape[1])\n",
    "            padding = torch.zeros(to_be_padded_shape)\n",
    "            x1 = torch.cat((x1, padding), dim=0)\n",
    "                \n",
    "        x2 = batch[i][0][1]\n",
    "        \n",
    "        if x2.shape[0] < max_shape_val:            \n",
    "            to_be_padded_shape = (max_shape_val - x2.shape[0], x2.shape[1])\n",
    "            padding = torch.zeros(to_be_padded_shape)\n",
    "            x2 = torch.cat((x2, padding), dim=0)\n",
    "    \n",
    "        X1.append(x1)\n",
    "        X2.append(x2)\n",
    "                \n",
    "        y.append([batch[i][1]])\n",
    "    \n",
    "    X1 = torch.stack(X1)\n",
    "    X2 = torch.stack(X2)\n",
    "    \n",
    "    return (X1, X2), torch.FloatTensor(y)\n"
   ]
  },
  {
   "cell_type": "code",
   "execution_count": 4,
   "metadata": {},
   "outputs": [
    {
     "name": "stdout",
     "output_type": "stream",
     "text": [
      "Creating dataloaders..\n"
     ]
    }
   ],
   "source": [
    "dataset = SimilarityVectorizedDataset()\n",
    "\n",
    "# Data preparation \n",
    "dataset_size = len(dataset)\n",
    "indices = list(range(dataset_size))\n",
    "\n",
    "val_split = int(np.floor(VAL * dataset_size))\n",
    "test_split = int(np.floor(TEST * dataset_size))\n",
    "\n",
    "if SHUFFLE:\n",
    "    np.random.seed(SEED)\n",
    "    np.random.shuffle(indices)\n",
    "\n",
    "train_indices, val_indices, test_indices = indices[val_split+test_split:], indices[:val_split], indices[val_split:val_split+test_split]\n",
    "\n",
    "# Creating PT data samplers and loaders:\n",
    "train_sampler = SubsetRandomSampler(train_indices)\n",
    "val_sampler = SubsetRandomSampler(val_indices)\n",
    "test_sampler = SubsetRandomSampler(test_indices)\n",
    "\n",
    "num_train_batch = int(np.ceil(TRAIN * dataset_size / BATCH_SIZE))\n",
    "num_val_batch = int(np.ceil(VAL * dataset_size / BATCH_SIZE))\n",
    "num_test_batch = int(np.ceil(TEST * dataset_size / BATCH_SIZE))\n",
    "\n",
    "print(\"Creating dataloaders..\")\n",
    "\n",
    "dataloader_train = torch.utils.data.dataloader.DataLoader(\n",
    "    dataset = dataset,\n",
    "    batch_size = BATCH_SIZE,\n",
    "    collate_fn = padding_collate,\n",
    "    sampler = train_sampler\n",
    ")\n",
    "\n",
    "dataloader_val = torch.utils.data.dataloader.DataLoader(\n",
    "    dataset = dataset,\n",
    "    batch_size = BATCH_SIZE,\n",
    "    collate_fn = padding_collate,\n",
    "    sampler = val_sampler\n",
    ")\n",
    "\n",
    "dataloader_test = torch.utils.data.dataloader.DataLoader(\n",
    "    dataset = dataset,\n",
    "    collate_fn = padding_collate,\n",
    "    sampler = test_sampler\n",
    ")"
   ]
  },
  {
   "cell_type": "markdown",
   "metadata": {},
   "source": [
    "## Part I: Training the distance model"
   ]
  },
  {
   "cell_type": "markdown",
   "metadata": {},
   "source": [
    "### Instantiating model, loss and optimizer"
   ]
  },
  {
   "cell_type": "code",
   "execution_count": 5,
   "metadata": {},
   "outputs": [
    {
     "data": {
      "text/plain": [
       "<module 'src.model.contrastiveModel' from 'D:\\\\thoma\\\\GitHub\\\\Text-Semantic-Similarity\\\\src\\\\model\\\\contrastiveModel.py'>"
      ]
     },
     "execution_count": 5,
     "metadata": {},
     "output_type": "execute_result"
    }
   ],
   "source": [
    "import src.model.contrastiveModel\n",
    "importlib.reload(src.model.contrastiveModel)"
   ]
  },
  {
   "cell_type": "code",
   "execution_count": 6,
   "metadata": {},
   "outputs": [],
   "source": [
    "model = src.model.contrastiveModel.TextSimilarityDeepSiameseLSTM(embedding_dim = EMBEDDING_DIM)\n",
    "model.cuda()\n",
    "model.train()\n",
    "\n",
    "contrastive_loss = src.model.contrastiveModel.SiameseContrastiveLoss()\n",
    "optimizer = optim.Adam(model.parameters(), lr=LR)\n",
    "scheduler = optim.lr_scheduler.ReduceLROnPlateau(optimizer, mode='max', factor=0.1, patience=0, verbose=True)"
   ]
  },
  {
   "cell_type": "markdown",
   "metadata": {},
   "source": [
    "### Training & Validation loops"
   ]
  },
  {
   "cell_type": "code",
   "execution_count": 7,
   "metadata": {},
   "outputs": [
    {
     "name": "stdout",
     "output_type": "stream",
     "text": [
      "Epochs 0\n",
      " Epochs 0 - Loss: 0.4739177591795029 - Acc: 0 - Batch: 2527/2527 - Dur: 307.12s/307.12ss\n",
      "\n",
      " Epochs 0 - Val_loss: 0.4337922085689593 - Batch: 316/316Saving weights..\n",
      "\n",
      "---\n",
      "Epochs 1\n",
      " Epochs 1 - Loss: 0.41653011171394155 - Acc: 0 - Batch: 2527/2527 - Dur: 324.34s/324.34s\n",
      "\n",
      " Epochs 1 - Val_loss: 0.40398977725188945 - Batch: 316/316Saving weights..\n",
      "\n",
      "---\n",
      "Epochs 2\n",
      " Epochs 2 - Loss: 0.3992016296000834 - Acc: 0 - Batch: 2527/2527 - Dur: 341.14s/341.14ss\n",
      "\n",
      " Epochs 2 - Val_loss: 0.39798272165316567 - Batch: 316/316Saving weights..\n",
      "\n",
      "---\n",
      "Epochs 3\n",
      " Epochs 3 - Loss: 0.38566131262992465 - Acc: 0 - Batch: 2527/2527 - Dur: 324.73s/324.73s\n",
      "\n",
      " Epochs 3 - Val_loss: 0.38479179672048064 - Batch: 316/316Saving weights..\n",
      "\n",
      "---\n",
      "Epochs 4\n",
      " Epochs 4 - Loss: 0.3748073286933771 - Acc: 0 - Batch: 2527/2527 - Dur: 329.56s/329.56ss\n",
      "\n",
      " Epochs 4 - Val_loss: 0.37326180067243453 - Batch: 316/316Saving weights..\n",
      "\n",
      "---\n",
      "Epochs 5\n",
      " Epochs 5 - Loss: 0.36375394935281463 - Acc: 0 - Batch: 2527/2527 - Dur: 337.96s/337.96s\n",
      "\n",
      " Epochs 5 - Val_loss: 0.36442020568477956 - Batch: 316/316Saving weights..\n",
      "\n",
      "---\n",
      "Epochs 6\n",
      " Epochs 6 - Loss: 0.3538943480067825 - Acc: 0 - Batch: 2527/2527 - Dur: 364.7s/364.7s77s\n",
      "\n",
      " Epochs 6 - Val_loss: 0.3584587843735007 - Batch: 316/316Saving weights..\n",
      "\n",
      "---\n",
      "Epochs 7\n",
      " Epochs 7 - Loss: 0.3456910247087101 - Acc: 0 - Batch: 2527/2527 - Dur: 305.3s/305.3ssss\n",
      "\n",
      " Epochs 7 - Val_loss: 0.3516994373330587 - Batch: 316/316Saving weights..\n",
      "\n",
      "---\n",
      "Epochs 8\n",
      " Epochs 8 - Loss: 0.33762302384411436 - Acc: 0 - Batch: 2527/2527 - Dur: 308.43s/308.43s\n",
      "\n",
      " Epochs 8 - Val_loss: 0.3506086949683443 - Batch: 316/316Saving weights..\n",
      "\n",
      "---\n",
      "Epochs 9\n",
      " Epochs 9 - Loss: 0.33121349473550565 - Acc: 0 - Batch: 2527/2527 - Dur: 335.27s/335.27s\n",
      "\n",
      " Epochs 9 - Val_loss: 0.34136485827120044 - Batch: 316/316Saving weights..\n",
      "\n",
      "---\n",
      "Epochs 10\n",
      " Epochs 10 - Loss: 0.3247741954655434 - Acc: 0 - Batch: 2527/2527 - Dur: 315.17s/315.17ss\n",
      "\n",
      " Epochs 10 - Val_loss: 0.33738706378808503 - Batch: 316/316Saving weights..\n",
      "\n",
      "---\n",
      "Epochs 11\n",
      " Epochs 11 - Loss: 0.31918774664897337 - Acc: 0 - Batch: 2527/2527 - Dur: 320.09s/320.09s\n",
      "\n",
      " Epochs 11 - Val_loss: 0.34212289194140255 - Batch: 316/316\n",
      "---\n",
      "Epochs 12\n",
      " Epochs 12 - Loss: 0.3138341423924563 - Acc: 0 - Batch: 2527/2527 - Dur: 336.31s/336.31ss\n",
      "\n",
      " Epochs 12 - Val_loss: 0.33299933100425744 - Batch: 316/316Saving weights..\n",
      "\n",
      "---\n",
      "Epochs 13\n",
      " Epochs 13 - Loss: 0.30881141398587053 - Acc: 0 - Batch: 2527/2527 - Dur: 324.26s/324.26s\n",
      "\n",
      " Epochs 13 - Val_loss: 0.3288513726637333 - Batch: 316/316Saving weights..\n",
      "\n",
      "---\n",
      "Epochs 14\n",
      " Epochs 14 - Loss: 0.30440917745568696 - Acc: 0 - Batch: 2527/2527 - Dur: 334.84s/334.84s\n",
      "\n",
      " Epochs 14 - Val_loss: 0.32633621637013893 - Batch: 316/316Saving weights..\n",
      "\n",
      "---\n",
      "Epochs 15\n",
      " Epochs 15 - Loss: 0.29967837808134057 - Acc: 0 - Batch: 2527/2527 - Dur: 322.35s/322.35s\n",
      "\n",
      " Epochs 15 - Val_loss: 0.3239117674057997 - Batch: 316/316Saving weights..\n",
      "\n",
      "---\n",
      "Epochs 16\n",
      " Epochs 16 - Loss: 0.2958357107818575 - Acc: 0 - Batch: 2527/2527 - Dur: 315.64s/315.64ss\n",
      "\n",
      " Epochs 16 - Val_loss: 0.32364298360823074 - Batch: 316/316Saving weights..\n",
      "\n",
      "---\n",
      "Epochs 17\n",
      " Epochs 17 - Loss: 0.29143609864866493 - Acc: 0 - Batch: 2527/2527 - Dur: 333.51s/333.51s\n",
      "\n",
      " Epochs 17 - Val_loss: 0.32312307888759845 - Batch: 316/316Saving weights..\n",
      "\n",
      "---\n",
      "Epochs 18\n",
      " Epochs 18 - Loss: 0.28807538425823326 - Acc: 0 - Batch: 2527/2527 - Dur: 324.12s/324.12s\n",
      "\n",
      " Epochs 18 - Val_loss: 0.31884574333700955 - Batch: 316/316Saving weights..\n",
      "\n",
      "---\n",
      "Epochs 19\n",
      " Epochs 19 - Loss: 0.284060590656133 - Acc: 0 - Batch: 2527/2527 - Dur: 335.94s/335.94sss\n",
      "\n",
      " Epochs 19 - Val_loss: 0.3181567868760115 - Batch: 316/316Saving weights..\n",
      "\n",
      "---\n",
      "Epochs 20\n",
      " Epochs 20 - Loss: 0.2803972782261248 - Acc: 0 - Batch: 2527/2527 - Dur: 329.41s/329.41ss\n",
      "\n",
      " Epochs 20 - Val_loss: 0.3189483435848091 - Batch: 316/3166\n",
      "---\n",
      "Epochs 21\n",
      " Epochs 21 - Loss: 0.27709212880338374 - Acc: 0 - Batch: 2527/2527 - Dur: 329.41s/329.41s\n",
      "\n",
      " Epochs 21 - Val_loss: 0.3185362667316877 - Batch: 316/3166\n",
      "---\n",
      "Epochs 22\n",
      " Epochs 22 - Loss: 0.2734834705127479 - Acc: 0 - Batch: 2527/2527 - Dur: 335.58s/335.58ss\n",
      "\n",
      " Epochs 22 - Val_loss: 0.31838054846547825 - Batch: 316/316\n",
      "---\n",
      "Epochs 23\n",
      " Epochs 23 - Loss: 0.2709767412634579 - Acc: 0 - Batch: 2527/2527 - Dur: 322.42s/322.42ss\n",
      "\n",
      " Epochs 23 - Val_loss: 0.31436204070909113 - Batch: 316/316Saving weights..\n",
      "\n",
      "---\n",
      "Epochs 24\n",
      " Epochs 24 - Loss: 0.26813035636114235 - Acc: 0 - Batch: 2527/2527 - Dur: 334.24s/334.24s\n",
      "\n",
      " Epochs 24 - Val_loss: 0.3168674270280554 - Batch: 316/3166\n",
      "---\n"
     ]
    }
   ],
   "source": [
    "min_val_loss = np.inf\n",
    "for i in range(EPOCHS):\n",
    "\n",
    "    print(f\"Epochs {i}\")\n",
    "    n = 1\n",
    "    total_loss = 0\n",
    "    total_duration = 0\n",
    "    t0 = time.time()\n",
    "    total_timesteps = len(dataloader_train)\n",
    "\n",
    "\n",
    "    for local_batch, local_labels in dataloader_train:\n",
    "        model.zero_grad()\n",
    "\n",
    "        # Transfer to GPU\n",
    "        local_batch_X1, local_batch_X2, local_labels = local_batch[0].to(device), local_batch[1].to(device), local_labels.to(device)\n",
    "\n",
    "        preds = model(local_batch_X1, local_batch_X2)\n",
    "\n",
    "        # Compute the loss, gradients, and update the parameters by\n",
    "        #loss = loss_function(preds, local_labels)\n",
    "        loss = contrastive_loss(preds, local_labels)\n",
    "        loss.backward()\n",
    "        optimizer.step()\n",
    "\n",
    "        # Statistics to follow progress\n",
    "        total_loss += loss.item()\n",
    "        duration = time.time() - t0\n",
    "        total_duration += duration\n",
    "        total_duration = round(total_duration, 2)\n",
    "\n",
    "        estimated_duration_left = round((total_duration / n) * (total_timesteps), 2)\n",
    "\n",
    "        print(f\"\\r Epochs {i} - Loss: {total_loss/n} - Acc: {0} - Batch: {n}/{num_train_batch} - Dur: {total_duration}s/{estimated_duration_left}s\", end=\"\")\n",
    "        n+=1\n",
    "        t0 = time.time()\n",
    "\n",
    "    print(\"\\n\")\n",
    "\n",
    "    # End of epochs validation\n",
    "\n",
    "    n = 1\n",
    "    total_loss = 0\n",
    "    \n",
    "    with torch.no_grad():\n",
    "        model.eval()\n",
    "        for local_batch, local_labels in dataloader_val:\n",
    "            # Transfer to GPU\n",
    "            local_batch_X1, local_batch_X2, local_labels = local_batch[0].to(device), local_batch[1].to(device), local_labels.to(device)\n",
    "\n",
    "            preds = model(local_batch_X1, local_batch_X2)\n",
    "\n",
    "            loss = contrastive_loss(preds, local_labels)\n",
    "\n",
    "            total_loss += loss.item()\n",
    "\n",
    "            acc=0\n",
    "            print(f\"\\r Epochs {i} - Val_loss: {total_loss/n} - Batch: {n}/{num_val_batch}\", end=\"\")\n",
    "            n+=1\n",
    "\n",
    "        if TO_SAVE and total_loss < min_val_loss:\n",
    "            print(\"Saving weights..\")\n",
    "            date = datetime.now().strftime(\"%m_%d_%H_%M_%S\" )\n",
    "            torch.save(model.state_dict(), f\"siamese_lstm_sequence_{date}_epoch{i}.pt\")\n",
    "            \n",
    "            min_val_loss = total_loss\n",
    "\n",
    "        model.train()\n",
    "    print(\"\\n---\")"
   ]
  },
  {
   "cell_type": "code",
   "execution_count": 8,
   "metadata": {},
   "outputs": [],
   "source": [
    "date = datetime.now().strftime(\"%m_%d_%H_%M_%S\" )\n",
    "torch.save(model.state_dict(), f\"siamese_smaller_lstm_sequence_{date}_epoch{i}.pt\")"
   ]
  },
  {
   "cell_type": "markdown",
   "metadata": {},
   "source": [
    "## Part II: Training the distance classifier\n",
    "### Dataloaders creation"
   ]
  },
  {
   "cell_type": "code",
   "execution_count": 9,
   "metadata": {},
   "outputs": [],
   "source": [
    "def model_and_titles_to_distance_dataset(model, dataloader):\n",
    "    \"\"\"\n",
    "    Given a similarity learning model and a dataloader, transforms the data of the dataloader in the shape of a distance dataset.\n",
    "    The distances are computed using the model. We then use the target variables to train a linear model to classify the distances\n",
    "    to 2 different classes: similar or dissimilar.\n",
    "    \"\"\"\n",
    "\n",
    "\n",
    "\n",
    "    X = []\n",
    "    y = []\n",
    "    \n",
    "    n = 1\n",
    "    \n",
    "    total_duration = 0\n",
    "    total_steps = len(dataloader)\n",
    "    \n",
    "    model.eval()\n",
    "    \n",
    "    for local_batch, local_labels in dataloader:\n",
    "        \n",
    "        t0 = time.time()\n",
    "        \n",
    "        # Transfer to GPU\n",
    "        local_batch_X1, local_batch_X2, local_labels = local_batch[0].to(device), local_batch[1].to(device), local_labels.to(device)\n",
    "\n",
    "        preds = model(local_batch_X1, local_batch_X2)\n",
    "        \n",
    "        with torch.no_grad():\n",
    "            # Transfering distances and labels to cpu\n",
    "            distances_cpu = preds.cpu().numpy().reshape(-1, 1)\n",
    "            labels = torch.flatten(local_labels).cpu().numpy().reshape(-1, 1)\n",
    "            # Fitting logreg\n",
    "            X.append(distances_cpu)\n",
    "            y.append(labels)\n",
    "        \n",
    "        duration = time.time() - t0\n",
    "        \n",
    "        total_duration += duration\n",
    "        \n",
    "        per_step_mean_duration = total_duration / n\n",
    "        rest_of_time = per_step_mean_duration * (total_steps)\n",
    "        \n",
    "        n+=1\n",
    "        print(f\"\\r{n}-{total_steps} (ETA: {total_duration}/{rest_of_time}s)\", end=\"\")\n",
    "        \n",
    "    model.train()\n",
    "        \n",
    "    X = np.array(X).flatten().reshape(-1, 1)\n",
    "    y = np.array(y).flatten()\n",
    "    \n",
    "    return X, y\n"
   ]
  },
  {
   "cell_type": "code",
   "execution_count": 10,
   "metadata": {},
   "outputs": [],
   "source": [
    "dataloader_train = torch.utils.data.dataloader.DataLoader(\n",
    "    dataset = dataset,\n",
    "    collate_fn = padding_collate,\n",
    "    sampler = train_sampler\n",
    ")\n",
    "\n",
    "dataloader_val = torch.utils.data.dataloader.DataLoader(\n",
    "    dataset = dataset,\n",
    "    collate_fn = padding_collate,\n",
    "    sampler = val_sampler\n",
    ")\n",
    "\n",
    "dataloader_test = torch.utils.data.dataloader.DataLoader(\n",
    "    dataset = dataset,\n",
    "    collate_fn = padding_collate,\n",
    "    sampler = test_sampler\n",
    ")"
   ]
  },
  {
   "cell_type": "code",
   "execution_count": 11,
   "metadata": {},
   "outputs": [
    {
     "name": "stdout",
     "output_type": "stream",
     "text": [
      "Generating training dataset...\n",
      "323405-323404 (ETA: 2826.7109677791595/2826.7109677791595s)Generating validation dataset...\n",
      "40426-40425 (ETA: 351.84866738319397/351.84866738319397s)Generating test dataset...\n",
      "40426-40425 (ETA: 351.76795291900635/351.76795291900635s)"
     ]
    }
   ],
   "source": [
    "print(\"Generating training dataset...\")\n",
    "X_train, y_train = model_and_titles_to_distance_dataset(model, dataloader_train)\n",
    "\n",
    "print(\"Generating validation dataset...\")\n",
    "X_test, y_test = model_and_titles_to_distance_dataset(model, dataloader_test)\n",
    "\n",
    "print(\"Generating test dataset...\")\n",
    "X_val, y_val = model_and_titles_to_distance_dataset(model, dataloader_val)"
   ]
  },
  {
   "cell_type": "code",
   "execution_count": 12,
   "metadata": {},
   "outputs": [
    {
     "name": "stdout",
     "output_type": "stream",
     "text": [
      "\n",
      "Final perfs: 0.7993654994990785 - 0.7652195423623995 - 0.7669758812615955\n"
     ]
    }
   ],
   "source": [
    "logreg = LogisticRegression()\n",
    "\n",
    "logreg.fit(X_train, y_train)\n",
    "\n",
    "train_acc = logreg.score(X_train, y_train)\n",
    "val_acc = logreg.score(X_val, y_val)\n",
    "test_acc = logreg.score(X_test, y_test)\n",
    "\n",
    "print(f\"\\nFinal perfs: {train_acc} - {val_acc} - {test_acc}\")"
   ]
  },
  {
   "cell_type": "code",
   "execution_count": 13,
   "metadata": {
    "scrolled": true
   },
   "outputs": [
    {
     "data": {
      "text/plain": [
       "<sklearn.metrics._plot.roc_curve.RocCurveDisplay at 0x2c4941ea648>"
      ]
     },
     "execution_count": 13,
     "metadata": {},
     "output_type": "execute_result"
    },
    {
     "data": {
      "image/png": "[encoded data removed]",
      "text/plain": [
       "<Figure size 432x288 with 1 Axes>"
      ]
     },
     "metadata": {
      "needs_background": "light"
     },
     "output_type": "display_data"
    }
   ],
   "source": [
    "from sklearn.metrics import plot_roc_curve\n",
    "\n",
    "plot_roc_curve(logreg, X_test, y_test)"
   ]
  }
 ],
 "metadata": {
  "kernelspec": {
   "display_name": "Python 3",
   "language": "python",
   "name": "python3"
  },
  "language_info": {
   "codemirror_mode": {
    "name": "ipython",
    "version": 3
   },
   "file_extension": ".py",
   "mimetype": "text/x-python",
   "name": "python",
   "nbconvert_exporter": "python",
   "pygments_lexer": "ipython3",
   "version": "3.7.7"
  },
  "toc": {
   "base_numbering": 1,
   "nav_menu": {},
   "number_sections": true,
   "sideBar": true,
   "skip_h1_title": false,
   "title_cell": "Table of Contents",
   "title_sidebar": "Contents",
   "toc_cell": true,
   "toc_position": {},
   "toc_section_display": true,
   "toc_window_display": false
  }
 },
 "nbformat": 4,
 "nbformat_minor": 4
}
